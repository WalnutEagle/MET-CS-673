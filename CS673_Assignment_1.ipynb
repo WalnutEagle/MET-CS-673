{
  "nbformat": 4,
  "nbformat_minor": 0,
  "metadata": {
    "colab": {
      "provenance": []
    },
    "kernelspec": {
      "name": "python3",
      "display_name": "Python 3"
    },
    "language_info": {
      "name": "python"
    }
  },
  "cells": [
    {
      "cell_type": "markdown",
      "source": [
        "Name : Adwait Kulkarni\n",
        "email : adk1361@bu.edu"
      ],
      "metadata": {
        "id": "GwrHSPRggzHS"
      }
    },
    {
      "cell_type": "markdown",
      "source": [
        "Question 1 : Read chapters 1 and 2 before class : Done\n"
      ],
      "metadata": {
        "id": "VvoOOEh6Nmqg"
      }
    },
    {
      "cell_type": "markdown",
      "source": [
        "Question 2 : Write a program that prints a mulSplicaSon table for numbers up to 12."
      ],
      "metadata": {
        "id": "-JUtgZ1KNyER"
      }
    },
    {
      "cell_type": "code",
      "execution_count": 13,
      "metadata": {
        "colab": {
          "base_uri": "https://localhost:8080/"
        },
        "id": "eqr2XTdPNHts",
        "outputId": "8c932fa4-4173-4ede-bdb1-d40c9de885ac"
      },
      "outputs": [
        {
          "output_type": "stream",
          "name": "stdout",
          "text": [
            "   1    2    3    4    5    6    7    8    9   10   11   12 \n",
            "   2    4    6    8   10   12   14   16   18   20   22   24 \n",
            "   3    6    9   12   15   18   21   24   27   30   33   36 \n",
            "   4    8   12   16   20   24   28   32   36   40   44   48 \n",
            "   5   10   15   20   25   30   35   40   45   50   55   60 \n",
            "   6   12   18   24   30   36   42   48   54   60   66   72 \n",
            "   7   14   21   28   35   42   49   56   63   70   77   84 \n",
            "   8   16   24   32   40   48   56   64   72   80   88   96 \n",
            "   9   18   27   36   45   54   63   72   81   90   99  108 \n",
            "  10   20   30   40   50   60   70   80   90  100  110  120 \n",
            "  11   22   33   44   55   66   77   88   99  110  121  132 \n",
            "  12   24   36   48   60   72   84   96  108  120  132  144 \n"
          ]
        }
      ],
      "source": [
        "#Code for Question 2\n",
        "def multiplication_table():\n",
        "    for i in range(1, 13):\n",
        "        for j in range(1, 13):\n",
        "            result = i * j\n",
        "            print(f\"{result:4}\", end=\" \")\n",
        "        print()\n",
        "\n",
        "if __name__ == \"__main__\":\n",
        "    multiplication_table()"
      ]
    },
    {
      "cell_type": "markdown",
      "source": [
        "Question 3 : Write a program that asks a user to input a string and then determine if it’s a palindrome. If it is, print out “The string <the string the user typed in> [is | is not] a palindrome. If the user types q, the program exits."
      ],
      "metadata": {
        "id": "KFxXNzIjODNo"
      }
    },
    {
      "cell_type": "code",
      "source": [
        "#Code for Question 3\n",
        "def is_palindrome(s):\n",
        "    s = s.lower()  # Convert the string to lowercase for case-insensitive comparison\n",
        "    return s == s[::-1]\n",
        "\n",
        "while True:\n",
        "    user_input = input(\"Enter a string (type 'q' to quit): \")\n",
        "\n",
        "    if user_input.lower() == 'q':\n",
        "        print(\"Program exiting. Goodbye!\")\n",
        "        break\n",
        "\n",
        "    if is_palindrome(user_input):\n",
        "        print(f\"The string '{user_input}' is a palindrome.\")\n",
        "    else:\n",
        "        print(f\"The string '{user_input}' is not a palindrome.\")"
      ],
      "metadata": {
        "colab": {
          "base_uri": "https://localhost:8080/"
        },
        "id": "iJD5UUGdN8Jm",
        "outputId": "c535c18d-3bd2-41d8-f76e-2f75e40b15b4"
      },
      "execution_count": 14,
      "outputs": [
        {
          "output_type": "stream",
          "name": "stdout",
          "text": [
            "Enter a string (type 'q' to quit): fjhfkjghhdhd\n",
            "The string 'fjhfkjghhdhd' is not a palindrome.\n",
            "Enter a string (type 'q' to quit): q\n",
            "Program exiting. Goodbye!\n"
          ]
        }
      ]
    },
    {
      "cell_type": "markdown",
      "source": [
        "Question 4: Write a program that asks the user to input two lists of equal length in the format: [a,b,c],\n",
        "[1,2,3]. The program should test that both lists are of equal length, if not, print out an error\n",
        "message. If they are the same length, combine the two lists by alternaSngly taking elements\n",
        "and output the results. Using the input example above, the output would be: [a,1,b,2,c,3]."
      ],
      "metadata": {
        "id": "ZnuYpNbvPVNX"
      }
    },
    {
      "cell_type": "code",
      "source": [
        "#Code for Question 4\n",
        "def process(user_input):\n",
        "    char_list = []\n",
        "    num_list = []\n",
        "    parts = user_input.split(',')\n",
        "    for part in parts:\n",
        "        cleaned_part = part.strip('[]').strip()\n",
        "        if cleaned_part.replace('.', '').isdigit():\n",
        "            num_list.append(int(cleaned_part))\n",
        "        else:\n",
        "            char_list.append(cleaned_part)\n",
        "\n",
        "    return char_list, num_list\n",
        "\n",
        "\n",
        "user_input = input(\"Enter input in the format [a,b,c],[1,2,3]: \")\n",
        "char_list, num_list = process(user_input)\n",
        "\n",
        "if len(char_list) != len(num_list):\n",
        "    print(\"Error: Character list and Number list must be of equal length.\")\n",
        "else:\n",
        "    combined_list = []\n",
        "    for i in range(len(char_list)):\n",
        "        combined_list.append(char_list[i])\n",
        "        combined_list.append(num_list[i])\n",
        "\n",
        "    print(\"Combined List:\", combined_list)"
      ],
      "metadata": {
        "colab": {
          "base_uri": "https://localhost:8080/"
        },
        "id": "d_-vxLsIOXfa",
        "outputId": "e7f3de54-30f0-4f9d-fee0-29e451b6bbd1"
      },
      "execution_count": 15,
      "outputs": [
        {
          "output_type": "stream",
          "name": "stdout",
          "text": [
            "Enter input in the format [a,b,c],[1,2,3]: [a,b,c],[1,2,3]\n",
            "Combined List: ['a', 1, 'b', 2, 'c', 3]\n"
          ]
        }
      ]
    },
    {
      "cell_type": "markdown",
      "source": [
        "Question 5: Write a program that computes the list of the first 100 Fibonacci numbers. The first two\n",
        "Fibonacci numbers are 1 and 1. The n+1 Fibonacci number is computed by adding the n-th\n",
        "and the n-1-th Fibonacci number. The first few are therefore 1, 1, 1+1=2, 1+2=3, 2+3=5,\n",
        "3+5=8. Print out the results."
      ],
      "metadata": {
        "id": "rg-BNJB_SRu9"
      }
    },
    {
      "cell_type": "code",
      "source": [
        "#Code for Question 5\n",
        "def fibonacci_sequence(n):\n",
        "    fib_sequence = [1, 1]\n",
        "\n",
        "    while len(fib_sequence) < n:\n",
        "        fib_sequence.append(fib_sequence[-1] + fib_sequence[-2])\n",
        "\n",
        "    return fib_sequence\n",
        "\n",
        "if __name__ == \"__main__\":\n",
        "    n = 100\n",
        "    result = fibonacci_sequence(n)\n",
        "\n",
        "    print(f\"The first {n} Fibonacci numbers are:\")\n",
        "    print(result)"
      ],
      "metadata": {
        "colab": {
          "base_uri": "https://localhost:8080/"
        },
        "id": "1HsIF58QPjjg",
        "outputId": "28997f18-0596-4ef1-f097-4abb91095e07"
      },
      "execution_count": 16,
      "outputs": [
        {
          "output_type": "stream",
          "name": "stdout",
          "text": [
            "The first 100 Fibonacci numbers are:\n",
            "[1, 1, 2, 3, 5, 8, 13, 21, 34, 55, 89, 144, 233, 377, 610, 987, 1597, 2584, 4181, 6765, 10946, 17711, 28657, 46368, 75025, 121393, 196418, 317811, 514229, 832040, 1346269, 2178309, 3524578, 5702887, 9227465, 14930352, 24157817, 39088169, 63245986, 102334155, 165580141, 267914296, 433494437, 701408733, 1134903170, 1836311903, 2971215073, 4807526976, 7778742049, 12586269025, 20365011074, 32951280099, 53316291173, 86267571272, 139583862445, 225851433717, 365435296162, 591286729879, 956722026041, 1548008755920, 2504730781961, 4052739537881, 6557470319842, 10610209857723, 17167680177565, 27777890035288, 44945570212853, 72723460248141, 117669030460994, 190392490709135, 308061521170129, 498454011879264, 806515533049393, 1304969544928657, 2111485077978050, 3416454622906707, 5527939700884757, 8944394323791464, 14472334024676221, 23416728348467685, 37889062373143906, 61305790721611591, 99194853094755497, 160500643816367088, 259695496911122585, 420196140727489673, 679891637638612258, 1100087778366101931, 1779979416004714189, 2880067194370816120, 4660046610375530309, 7540113804746346429, 12200160415121876738, 19740274219868223167, 31940434634990099905, 51680708854858323072, 83621143489848422977, 135301852344706746049, 218922995834555169026, 354224848179261915075]\n"
          ]
        }
      ]
    },
    {
      "cell_type": "markdown",
      "source": [
        "Question 6 : Write a program that determines if an inpufed year is a leap year."
      ],
      "metadata": {
        "id": "EgW801Qia7KK"
      }
    },
    {
      "cell_type": "code",
      "source": [
        "#Code for Question 6\n",
        "def is_leap_year(year):\n",
        "    if (year % 4 == 0 and year % 100 != 0) or (year % 400 == 0):\n",
        "        return True\n",
        "    else:\n",
        "        return False\n",
        "\n",
        "if __name__ == \"__main__\":\n",
        "    try:\n",
        "        year = int(input(\"Enter a year: \"))\n",
        "        if is_leap_year(year):\n",
        "            print(f\"{year} is a leap year.\")\n",
        "        else:\n",
        "            print(f\"{year} is not a leap year.\")\n",
        "    except ValueError:\n",
        "        print(\"Error: Please enter a valid year.\")"
      ],
      "metadata": {
        "colab": {
          "base_uri": "https://localhost:8080/"
        },
        "id": "QHu1tV5oSZHh",
        "outputId": "ea6009bb-06ad-421a-d605-ecd63e30ff91"
      },
      "execution_count": 17,
      "outputs": [
        {
          "output_type": "stream",
          "name": "stdout",
          "text": [
            "Enter a year: 3450\n",
            "3450 is not a leap year.\n"
          ]
        }
      ]
    },
    {
      "cell_type": "code",
      "source": [],
      "metadata": {
        "id": "ZhD8GD4uggM0"
      },
      "execution_count": null,
      "outputs": []
    }
  ]
}